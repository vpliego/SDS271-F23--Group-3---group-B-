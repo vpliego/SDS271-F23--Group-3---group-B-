{
 "cells": [
  {
   "cell_type": "markdown",
   "id": "2cf6a5b3-c44f-4dfb-9433-b4717c072272",
   "metadata": {
    "tags": []
   },
   "source": [
    "# Lab 7 - Collaboration Lab"
   ]
  },
  {
   "cell_type": "markdown",
   "id": "19027ccd-36de-4044-ba9f-a28b35efae89",
   "metadata": {},
   "source": [
    "This lab is going to be quite different from the previous ones. \n",
    "\n",
    "You will work in teams of two to create a python mini-package. Details on what that package must accomplish and how it must be organized will be included. Consider these a set of requirements given to you by a client that you must satisfy.\n",
    "\n",
    "This package will have a few parts to it, and you must divide up the work so that both members of the team contribute functions to the package. You must document the package in detail with both comments and a README that describes how to use it.\n",
    "\n",
    "Once you are finished with this package, you will turn in the following things in the following way:\n",
    "\n",
    "1. You will turn in on GitHub a shared Jupyter notebook (.ipynb) and Python file (.py). The Python file will contain your package (with code and comments) and the Jupyter notebook will import your package and document how it works.\n",
    "\n",
    "2. You will also turn in via GitHub a version of the package (just the .py file) where you have deleted *all the code you wrote* leaving only the comments. **You may leave function definitions, but none of the code below them.**"
   ]
  },
  {
   "cell_type": "markdown",
   "id": "22605f0c-f4d5-4be1-8457-3da533fa2d0b",
   "metadata": {},
   "source": [
    "## But first, GitHub"
   ]
  },
  {
   "cell_type": "markdown",
   "id": "96c905e6-c6a3-4e2d-bbe4-b312912ab616",
   "metadata": {},
   "source": [
    "You will be working collaboratively on this project, so you should use version control.\n",
    "\n",
    "<div class=\"alert alert-info\"> Exercise 1:\n",
    "\n",
    "If you have not yet created a [GitHub account](https://github.com/), do so now. \n",
    "\n",
    "Once every member of your team has a GitHub account, one member of the team should create a *private* repo for the project. Come up with a team name and name the repo \"SDS271-F23-[your-team-name]\"\n",
    "    \n",
    "Next, [add every member of the team to the repo](https://docs.github.com/en/account-and-profile/setting-up-and-managing-your-personal-account-on-github/managing-access-to-your-personal-repositories/inviting-collaborators-to-a-personal-repository).\n",
    "    \n",
    "Add Casey to your repo -- this is how you will turn in this assignment. Casey's GitHub username is @caseyberger\n",
    "\n",
    "Now, you're ready for the project.\n",
    "</div>"
   ]
  },
  {
   "cell_type": "markdown",
   "id": "19b06cf4-b9ca-4361-abe3-616ea15dea57",
   "metadata": {},
   "source": [
    "## Project B"
   ]
  },
  {
   "cell_type": "markdown",
   "id": "b7418274-7d05-49af-a88f-cbcd3736b8ad",
   "metadata": {},
   "source": [
    "Write a class that does the following uses a Monte Carlo simulation to calculate $\\pi$ using the ratio of areas for a square of side length 2 and a circle of radius 1. \n",
    "\n",
    "Remember that\n",
    "\n",
    "\n",
    "$A_c= \\pi R^2$\n",
    "\n",
    "$A_s=L^2 = (2R)^2$\n",
    "\n",
    "Your class should:\n",
    "\n",
    "1. store the length, radius, number of monte carlo iterations, and number of dart throws as internal attributes (you can choose between class and instance attributes as you see fit)\n",
    "2. simulate some large (but variable) number of dart throws inside the square\n",
    "3. calculate how many of those throws also landed inside the circle if the circle is centered in the middle of the square\n",
    "4. store the results of each experiment (set of dart throws) in a dataframe\n",
    "5. use the relationship between the area of a circle and the area of a square to estimate pi from those two numbers (with error!)\n",
    "6. create a visualization of the simulation (the dart throws on the circle/square)\n",
    "7. return the estimate of pi along with the standard error on that estimation"
   ]
  },
  {
   "cell_type": "markdown",
   "id": "5455e6d9-d395-475e-a3c5-152b68998fa3",
   "metadata": {},
   "source": [
    "# Post-Lab: Production and Reflection"
   ]
  },
  {
   "cell_type": "markdown",
   "id": "d40d4ca5-7ecc-4c91-adb1-de6c53bda4bd",
   "metadata": {},
   "source": [
    "**Note: the instructions for this lab are different, so read carefully**\n",
    "\n",
    "When you are done with this lab, make sure your team has in its GitHub one JupyterNotebook, a README, and at least one.py file that contains the class you've written. The Jupyter Notebook should import your .py file(s) and walk through how you solved the problem given to you. The README should provide a brief overview of what is in the .py file(s) and how to use it(them). It should also include the problem prompt! Finally, the .py file(s) should be adequately commented.\n",
    "\n",
    "During class today, Casey will have added you to the SDS-271-F23 organization on GitHub and will have assigned your team a secret number and created a public repo for you in the organization. \n",
    "\n",
    "In this public repo, upload your README only. Then, make a copy of your .py files and **delete all the code, leaving only the comments. You may leave function definitions, but none of the code below them.** Upload this comments-only version of your .py file(s) to the public repo and add Casey to it.\n",
    "\n",
    "In addition, don't forget to fill out the <a href=\"https://forms.gle/nAJeHRedav8kPyCi8\"> post-lab reflection form</a>. "
   ]
  },
  {
   "cell_type": "code",
   "execution_count": null,
   "id": "d480d225-e025-4c0c-966f-c6c4afbb8b3a",
   "metadata": {},
   "outputs": [],
   "source": []
  }
 ],
 "metadata": {
  "kernelspec": {
   "display_name": "Python 3 (ipykernel)",
   "language": "python",
   "name": "python3"
  },
  "language_info": {
   "codemirror_mode": {
    "name": "ipython",
    "version": 3
   },
   "file_extension": ".py",
   "mimetype": "text/x-python",
   "name": "python",
   "nbconvert_exporter": "python",
   "pygments_lexer": "ipython3",
   "version": "3.8.10"
  }
 },
 "nbformat": 4,
 "nbformat_minor": 5
}
