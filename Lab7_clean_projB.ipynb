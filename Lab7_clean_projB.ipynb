
  {
   "cell_type": "markdown",
   "id": "19b06cf4-b9ca-4361-abe3-616ea15dea57",
   "metadata": {},
   "source": [
    "## Project B"
   ]
  },
  {
   "cell_type": "markdown",
   "id": "b7418274-7d05-49af-a88f-cbcd3736b8ad",
   "metadata": {},
   "source": [
    "Write a class that does the following uses a Monte Carlo simulation to calculate $\\pi$ using the ratio of areas for a square of side length 2 and a circle of radius 1. \n",
    "\n",
    "Remember that\n",
    "\n",
    "\n",
    "$A_c= \\pi R^2$\n",
    "\n",
    "$A_s=L^2 = (2R)^2$\n",
    "\n",
    "Your class should:\n",
    "\n",
    "1. store the length, radius, number of monte carlo iterations, and number of dart throws as internal attributes (you can choose between class and instance attributes as you see fit)\n",
    "2. simulate some large (but variable) number of dart throws inside the square\n",
    "3. calculate how many of those throws also landed inside the circle if the circle is centered in the middle of the square\n",
    "4. store the results of each experiment (set of dart throws) in a dataframe\n",
    "5. use the relationship between the area of a circle and the area of a square to estimate pi from those two numbers (with error!)\n",
    "6. create a visualization of the simulation (the dart throws on the circle/square)\n",
    "7. return the estimate of pi along with the standard error on that estimation"
   ]
  }
