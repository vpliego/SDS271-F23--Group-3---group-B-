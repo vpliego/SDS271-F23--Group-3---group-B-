{
 "cells": [
  {
   "cell_type": "markdown",
   "id": "2cf6a5b3-c44f-4dfb-9433-b4717c072272",
   "metadata": {
    "tags": []
   },
   "source": [
    "# Lab 7 - Collaboration Lab"
   ]
  },
  {
   "cell_type": "markdown",
   "id": "19b06cf4-b9ca-4361-abe3-616ea15dea57",
   "metadata": {},
   "source": [
    "## Project B"
   ]
  },
  {
   "cell_type": "markdown",
   "id": "b7418274-7d05-49af-a88f-cbcd3736b8ad",
   "metadata": {},
   "source": [
    "Write a class that does the following uses a Monte Carlo simulation to calculate $\\pi$ using the ratio of areas for a square of side length 2 and a circle of radius 1. \n",
    "\n",
    "Remember that\n",
    "\n",
    "\n",
    "$A_c= \\pi R^2$\n",
    "\n",
    "$A_s=L^2 = (2R)^2$\n",
    "\n",
    "Your class should:\n",
    "\n",
    "1. store the length, radius, number of monte carlo iterations, and number of dart throws as internal attributes (you can choose between class and instance attributes as you see fit)\n",
    "2. simulate some large (but variable) number of dart throws inside the square\n",
    "3. calculate how many of those throws also landed inside the circle if the circle is centered in the middle of the square\n",
    "4. store the results of each experiment (set of dart throws) in a dataframe\n",
    "5. use the relationship between the area of a circle and the area of a square to estimate pi from those two numbers (with error!)\n",
    "6. create a visualization of the simulation (the dart throws on the circle/square)\n",
    "7. return the estimate of pi along with the standard error on that estimation"
   ]
  },
  {
   "cell_type": "code",
   "execution_count": 174,
   "id": "a58c2a30-e689-40f0-8530-1e16f16376a7",
   "metadata": {},
   "outputs": [],
   "source": [
    "from MonteCarlo_code import MonteCarlo"
   ]
  },
  {
   "cell_type": "code",
   "execution_count": 183,
   "id": "6960f93f-3583-4bc7-aaa6-ee9c6115cbd8",
   "metadata": {},
   "outputs": [],
   "source": [
    "#Here the class will be storing the radius, num of iterations, and num of dart throws as internal attributes. (Step 1)\n",
    "checking = MonteCarlo(10, 2, 5)"
   ]
  },
  {
   "cell_type": "code",
   "execution_count": 184,
   "id": "fd07fbdf-dd20-4118-83b4-d43e0b49ec37",
   "metadata": {},
   "outputs": [
    {
     "name": "stdout",
     "output_type": "stream",
     "text": [
      "17 7\n"
     ]
    }
   ],
   "source": [
    "#Here, we will create random dart coordinates, x and y. \n",
    "x,y = checking.random_dart()\n",
    "print(x,y)"
   ]
  },
  {
   "cell_type": "code",
   "execution_count": 176,
   "id": "798e2b06-3e3e-4f22-b07c-1b73a363509d",
   "metadata": {},
   "outputs": [
    {
     "data": {
      "text/plain": [
       "array([[10., 13., 18., 11., 18.],\n",
       "       [10., 11., 18.,  0.,  9.]])"
      ]
     },
     "execution_count": 176,
     "metadata": {},
     "output_type": "execute_result"
    }
   ],
   "source": [
    "#Here we will simulate the throwing of these random darts for the number of darts thrown. Step 2 \n",
    "checking.throw_darts()"
   ]
  },
  {
   "cell_type": "code",
   "execution_count": 177,
   "id": "6408a63e-0717-4470-b990-97c8c40fac45",
   "metadata": {},
   "outputs": [
    {
     "data": {
      "text/plain": [
       "array([[10., 13., 18., 11., 18.],\n",
       "       [10., 11., 18.,  0.,  9.]])"
      ]
     },
     "execution_count": 177,
     "metadata": {},
     "output_type": "execute_result"
    }
   ],
   "source": [
    "#Here we are just getting our coordinates as a 2D array. \n",
    "checking.coordinates"
   ]
  },
  {
   "cell_type": "code",
   "execution_count": 178,
   "id": "3c1f463e-55e6-4b98-9e0a-31b80d5a2c74",
   "metadata": {},
   "outputs": [
    {
     "data": {
      "text/plain": [
       "3"
      ]
     },
     "execution_count": 178,
     "metadata": {},
     "output_type": "execute_result"
    }
   ],
   "source": [
    "#Here we are addressing step 3, as what is returned from this function is the
     #number of times the dart throws land inside the circle. \n",
    "checking.check_circle()"
   ]
  },
  {
   "cell_type": "code",
   "execution_count": 179,
   "id": "7310a268-3a98-4039-8b23-9c382853d453",
   "metadata": {},
   "outputs": [
    {
     "data": {
      "text/plain": [
       "5"
      ]
     },
     "execution_count": 179,
     "metadata": {},
     "output_type": "execute_result"
    }
   ],
   "source": [
    "#This tells us the number of throws which is proportional to the area of the square. \n",
    "checking.nthrows"
   ]
  },
  {
   "cell_type": "code",
   "execution_count": 180,
   "id": "dc8ac4d0-2768-456d-8644-20109ea2e162",
   "metadata": {},
   "outputs": [
    {
     "data": {
      "text/plain": [
       "2.4"
      ]
     },
     "execution_count": 180,
     "metadata": {},
     "output_type": "execute_result"
    }
   ],
   "source": [
    "#This addresses step 5 in getting pi \n",
    "checking.estimate_pi()"
   ]
  },
  {
   "cell_type": "code",
   "execution_count": 181,
   "id": "ce0e98b2-a584-44d0-b991-a0c9d5377dfc",
   "metadata": {},
   "outputs": [
    {
     "name": "stdout",
     "output_type": "stream",
     "text": [
      "The estimated value of pi is: 2.8\n",
      "The standard error is: 0.4\n"
     ]
    }
   ],
   "source": [
    "#Here we address step 5 and 6, however in doing the monte carlo simulation
     #and getting the estimated value of pi and its standard error. \n",
    "checking.monte_carlo_sim()"
   ]
  },
  {
   "cell_type": "code",
   "execution_count": 182,
   "id": "2eed002a-0f13-411b-8244-1bd3a4626fd1",
   "metadata": {},
   "outputs": [
    {
     "data": {
      "image/png": "[encoded data removed]",
      "text/plain": [
       "<Figure size 432x288 with 1 Axes>"
      ]
     },
     "metadata": {
      "needs_background": "light"
     },
     "output_type": "display_data"
    }
   ],
   "source": [
    "#This step partly addresses the final step in creating a visualization. 
     #However, the square and circle components are missing to complete this visualization. \n",
    "checking.visualization()"
   ]
  },
  {
   "cell_type": "code",
   "execution_count": null,
   "id": "d480d225-e025-4c0c-966f-c6c4afbb8b3a",
   "metadata": {},
   "outputs": [],
   "source": []
  }
 ],
 "metadata": {
  "kernelspec": {
   "display_name": "Python 3 (ipykernel)",
   "language": "python",
   "name": "python3"
  },
  "language_info": {
   "codemirror_mode": {
    "name": "ipython",
    "version": 3
   },
   "file_extension": ".py",
   "mimetype": "text/x-python",
   "name": "python",
   "nbconvert_exporter": "python",
   "pygments_lexer": "ipython3",
   "version": "3.8.10"
  }
 },
 "nbformat": 4,
 "nbformat_minor": 5
}
